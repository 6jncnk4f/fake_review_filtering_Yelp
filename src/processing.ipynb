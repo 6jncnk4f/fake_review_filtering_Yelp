{
 "cells": [
  {
   "cell_type": "code",
   "execution_count": 3,
   "metadata": {},
   "outputs": [
    {
     "name": "stderr",
     "output_type": "stream",
     "text": [
      "ERROR:root:File `\"'processing_api.ipynb'.py\"` not found.\n"
     ]
    }
   ],
   "source": [
    "import os\n",
    "import json\n",
    "train_dir = '../data/yelp_training_set/'\n",
    "ex_file = '../data/prml-web-sol-2009-09-08.csv'\n",
    "%run 'processing_api.ipynb'"
   ]
  },
  {
   "cell_type": "code",
   "execution_count": 67,
   "metadata": {},
   "outputs": [
    {
     "name": "stdout",
     "output_type": "stream",
     "text": [
      "yelp_training_set_business.json\n",
      "yelp_training_set_checkin.json\n",
      "yelp_training_set_review.json\n",
      "yelp_training_set_user.json\n",
      "aaa\n",
      "Id,Votes\n",
      "\n",
      "1Lq3ghX6yzJ7MsWXDkgIGQ,0\n",
      "\n",
      "zulCqAo_XY9wAefJ58H9Fw,0\n",
      "\n",
      "ptm1X6ReMEYg1Y203KXkxQ,0\n",
      "\n",
      "JCCe3m0LK7dGGxO4ntoGLg,0\n",
      "\n"
     ]
    }
   ],
   "source": [
    "for x in os.listdir(train_dir):\n",
    "    print x\n",
    "print 'aaa'\n",
    "i = 0\n",
    "with open(ex_file, 'r') as in_file:\n",
    "    for line in in_file:\n",
    "        print line\n",
    "        i += 1\n",
    "        if i == 5:\n",
    "            break"
   ]
  },
  {
   "cell_type": "code",
   "execution_count": 31,
   "metadata": {
    "collapsed": true
   },
   "outputs": [],
   "source": []
  },
  {
   "cell_type": "markdown",
   "metadata": {},
   "source": [
    "## User data"
   ]
  },
  {
   "cell_type": "code",
   "execution_count": 32,
   "metadata": {
    "collapsed": true
   },
   "outputs": [],
   "source": [
    "file_name = train_dir + 'yelp_training_set_user.json'\n",
    "user_data = read_data(file_name)"
   ]
  },
  {
   "cell_type": "code",
   "execution_count": 35,
   "metadata": {},
   "outputs": [
    {
     "name": "stdout",
     "output_type": "stream",
     "text": [
      "43873\n",
      "votes {u'funny': 0, u'useful': 7, u'cool': 0}\n",
      "review_count 6\n",
      "name Jim\n",
      "average_stars 5.0\n",
      "user_id CR2y7yEm4X035ZMzrTtN9Q\n",
      "type user\n"
     ]
    }
   ],
   "source": [
    "print len(user_data)\n",
    "look_up_data(user_data)"
   ]
  },
  {
   "cell_type": "markdown",
   "metadata": {},
   "source": [
    "## checkin data"
   ]
  },
  {
   "cell_type": "code",
   "execution_count": 41,
   "metadata": {
    "collapsed": true
   },
   "outputs": [],
   "source": [
    "file_name = train_dir + 'yelp_training_set_checkin.json'\n",
    "checkin_data = read_data(file_name)"
   ]
  },
  {
   "cell_type": "code",
   "execution_count": 42,
   "metadata": {},
   "outputs": [
    {
     "name": "stdout",
     "output_type": "stream",
     "text": [
      "8282\n",
      "checkin_info {u'11-3': 17, u'10-1': 4, u'15-0': 2, u'15-3': 2, u'15-5': 2, u'14-4': 1, u'14-5': 3, u'14-6': 6, u'14-0': 2, u'14-1': 2, u'14-3': 2, u'0-5': 1, u'1-6': 1, u'11-5': 3, u'11-4': 11, u'13-1': 1, u'11-6': 6, u'11-1': 18, u'13-6': 5, u'13-5': 4, u'11-2': 9, u'12-6': 5, u'12-4': 8, u'12-5': 5, u'12-2': 12, u'12-3': 19, u'12-0': 20, u'12-1': 14, u'13-3': 1, u'9-5': 2, u'9-4': 1, u'13-2': 6, u'20-1': 1, u'9-6': 4, u'16-3': 1, u'16-1': 1, u'16-5': 1, u'10-0': 3, u'8-5': 1, u'10-2': 4, u'10-3': 4, u'10-4': 1, u'10-5': 2, u'10-6': 2, u'11-0': 3}\n",
      "type checkin\n",
      "business_id KO9CpaSPOoqm0iCWm5scmg\n"
     ]
    }
   ],
   "source": [
    "print len(checkin_data)\n",
    "look_up_data(checkin_data)"
   ]
  },
  {
   "cell_type": "markdown",
   "metadata": {},
   "source": [
    "## Business data"
   ]
  },
  {
   "cell_type": "code",
   "execution_count": 48,
   "metadata": {
    "collapsed": true
   },
   "outputs": [],
   "source": [
    "file_name = train_dir + 'yelp_training_set_business.json'\n",
    "business_data = read_data(file_name)"
   ]
  },
  {
   "cell_type": "code",
   "execution_count": 49,
   "metadata": {},
   "outputs": [
    {
     "name": "stdout",
     "output_type": "stream",
     "text": [
      "11537\n",
      "city Peoria\n",
      "review_count 3\n",
      "name Peoria Income Tax Service\n",
      "neighborhoods []\n",
      "type business\n",
      "business_id rncjoVoEFUJGCUoC1JgnUA\n",
      "full_address 8466 W Peoria Ave\n",
      "Ste 6\n",
      "Peoria, AZ 85345\n",
      "state AZ\n",
      "longitude -112.241596\n",
      "stars 5.0\n",
      "latitude 33.581867\n",
      "open True\n",
      "categories [u'Accountants', u'Professional Services', u'Tax Services', u'Financial Services']\n"
     ]
    }
   ],
   "source": [
    "print len(business_data)\n",
    "look_up_data(business_data)"
   ]
  },
  {
   "cell_type": "markdown",
   "metadata": {},
   "source": [
    "## Review data"
   ]
  },
  {
   "cell_type": "code",
   "execution_count": 47,
   "metadata": {
    "collapsed": true
   },
   "outputs": [],
   "source": [
    "file_name = train_dir + 'yelp_training_set_review.json'\n",
    "review_data = read_data(file_name)"
   ]
  },
  {
   "cell_type": "code",
   "execution_count": 50,
   "metadata": {},
   "outputs": [
    {
     "name": "stdout",
     "output_type": "stream",
     "text": [
      "229907\n",
      "votes {u'funny': 0, u'useful': 5, u'cool': 2}\n",
      "user_id rLtl8ZkDX5vH5nAx9C3q5Q\n",
      "review_id fWKvX83p0-ka4JS3dc6E5A\n",
      "text My wife took me here on my birthday for breakfast and it was excellent.  The weather was perfect which made sitting outside overlooking their grounds an absolute pleasure.  Our waitress was excellent and our food arrived quickly on the semi-busy Saturday morning.  It looked like the place fills up pretty quickly so the earlier you get here the better.\n",
      "\n",
      "Do yourself a favor and get their Bloody Mary.  It was phenomenal and simply the best I've ever had.  I'm pretty sure they only use ingredients from their garden and blend them fresh when you order it.  It was amazing.\n",
      "\n",
      "While EVERYTHING on the menu looks excellent, I had the white truffle scrambled eggs vegetable skillet and it was tasty and delicious.  It came with 2 pieces of their griddled bread with was amazing and it absolutely made the meal complete.  It was the best \"toast\" I've ever had.\n",
      "\n",
      "Anyway, I can't wait to go back!\n",
      "business_id 9yKzy9PApeiPPOUJEtnvkg\n",
      "stars 5\n",
      "date 2011-01-26\n",
      "type review\n"
     ]
    }
   ],
   "source": [
    "print len(review_data)\n",
    "look_up_data(review_data)"
   ]
  },
  {
   "cell_type": "code",
   "execution_count": 55,
   "metadata": {
    "collapsed": true
   },
   "outputs": [],
   "source": [
    "ratins = set([])\n",
    "for d in review_data:\n",
    "    ratins.add(d['type'])"
   ]
  },
  {
   "cell_type": "code",
   "execution_count": 56,
   "metadata": {},
   "outputs": [
    {
     "name": "stdout",
     "output_type": "stream",
     "text": [
      "set([u'review'])\n"
     ]
    }
   ],
   "source": [
    "print ratins"
   ]
  },
  {
   "cell_type": "code",
   "execution_count": null,
   "metadata": {
    "collapsed": true
   },
   "outputs": [],
   "source": []
  }
 ],
 "metadata": {
  "anaconda-cloud": {},
  "kernelspec": {
   "display_name": "Python 3",
   "language": "python",
   "name": "python3"
  },
  "language_info": {
   "codemirror_mode": {
    "name": "ipython",
    "version": 3
   },
   "file_extension": ".py",
   "mimetype": "text/x-python",
   "name": "python",
   "nbconvert_exporter": "python",
   "pygments_lexer": "ipython3",
   "version": "3.6.0"
  }
 },
 "nbformat": 4,
 "nbformat_minor": 2
}

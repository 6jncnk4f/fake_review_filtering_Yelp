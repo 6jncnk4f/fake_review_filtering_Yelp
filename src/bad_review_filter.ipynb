{
 "cells": [
  {
   "cell_type": "code",
   "execution_count": 3,
   "metadata": {},
   "outputs": [
    {
     "name": "stdout",
     "output_type": "stream",
     "text": [
      "../data/yelp_hot_res.sql\n"
     ]
    }
   ],
   "source": [
    "sql_dir = '../data/'\n",
    "sql = ''.join([sql_dir,'yelp_hot_res.sql'])\n",
    "print sql"
   ]
  },
  {
   "cell_type": "code",
   "execution_count": 5,
   "metadata": {},
   "outputs": [],
   "source": [
    "import MySQLdb as mdb \n",
    "import datetime, time"
   ]
  },
  {
   "cell_type": "code",
   "execution_count": null,
   "metadata": {
    "collapsed": true
   },
   "outputs": [],
   "source": [
    "def run_sql_file(filename, connection):\n",
    "    '''\n",
    "    The function takes a filename and a connection as input\n",
    "    and will run the SQL query on the given connection  \n",
    "    '''\n",
    "    start = time.time()\n",
    "    \n",
    "    file = open(filename, 'r')\n",
    "    sql = s = \" \".join(file.readlines())\n",
    "    print \"Start executing: \" + filename + \" at \" + str(datetime.datetime.now().strftime(\"%Y-%m-%d %H:%M\")) + \"\\n\" + sql \n",
    "    cursor = connection.cursor()\n",
    "    cursor.execute(sql)    \n",
    "    connection.commit()\n",
    "    \n",
    "    end = time.time()\n",
    "    print \"Time elapsed to run the query:\"\n",
    "    print str((end - start)*1000) + ' ms'\n",
    "    \n",
    "    \n",
    " \n",
    "def main():    \n",
    "    connection = mdb.connect('127.0.0.1', 'root', 'password', 'database_name')\n",
    "    run_sql_file(\"my_query_file.sql\", connection)    \n",
    "    connection.close()"
   ]
  }
 ],
 "metadata": {
  "anaconda-cloud": {},
  "kernelspec": {
   "display_name": "Python [conda env:py2]",
   "language": "python",
   "name": "conda-env-py2-py"
  },
  "language_info": {
   "codemirror_mode": {
    "name": "ipython",
    "version": 2
   },
   "file_extension": ".py",
   "mimetype": "text/x-python",
   "name": "python",
   "nbconvert_exporter": "python",
   "pygments_lexer": "ipython2",
   "version": "2.7.13"
  }
 },
 "nbformat": 4,
 "nbformat_minor": 2
}

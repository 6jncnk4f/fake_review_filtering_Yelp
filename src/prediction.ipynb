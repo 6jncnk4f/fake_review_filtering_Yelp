{
 "cells": [
  {
   "cell_type": "code",
   "execution_count": 44,
   "metadata": {},
   "outputs": [],
   "source": [
    "import os\n",
    "import json\n",
    "%run 'processing_api.ipynb'\n",
    "train_dir = '../data/yelp_testing_set/'"
   ]
  },
  {
   "cell_type": "code",
   "execution_count": 45,
   "metadata": {},
   "outputs": [
    {
     "name": "stdout",
     "output_type": "stream",
     "text": [
      "yelp_test_set_business.json\n",
      "yelp_test_set_checkin.json\n",
      "yelp_test_set_review.json\n",
      "yelp_test_set_user.json\n"
     ]
    }
   ],
   "source": [
    "test_dir = '../data/yelp_test_set/'\n",
    "for x in os.listdir(test_dir):\n",
    "    print x"
   ]
  },
  {
   "cell_type": "code",
   "execution_count": 16,
   "metadata": {
    "collapsed": true
   },
   "outputs": [],
   "source": [
    "test_file = test_dir + 'yelp_test_set_review.json'\n",
    "test_data = read_data(test_file)\n"
   ]
  },
  {
   "cell_type": "code",
   "execution_count": 43,
   "metadata": {},
   "outputs": [
    {
     "name": "stdout",
     "output_type": "stream",
     "text": [
      "22956\n",
      "user_id 2WkM3pYfx7bt46tv7u4hHA\n",
      "review_id 1Lq3ghX6yzJ7MsWXDkgIGQ\n",
      "text Nice place, big patio.  Now offering LIVE sketch comedy!  Wednesday, November 17th, see local troupe Th[sic] Sense in their 2nd annual Holiday Show!:\n",
      "\n",
      "A lighter, snappier take on the Holiday times. Not for the easily offended. Sketches include: \"The Scariest Hollowe'en Costume\", \"The First Thanksgiving\", and \"Who Shot Santa Claus?\", as well as the infectious song \"Mama Christmas\"\n",
      "business_id AuMz7XGkjLcIUurp_AD51w\n",
      "stars 5\n",
      "date 2010-11-15\n",
      "type review\n"
     ]
    }
   ],
   "source": [
    "print len(test_data)\n",
    "look_up_data(test_data)"
   ]
  },
  {
   "cell_type": "code",
   "execution_count": 49,
   "metadata": {},
   "outputs": [],
   "source": [
    "%run 'naive_model.ipynb'"
   ]
  },
  {
   "cell_type": "code",
   "execution_count": 50,
   "metadata": {},
   "outputs": [],
   "source": [
    "myData = get_model1(test_data)"
   ]
  },
  {
   "cell_type": "code",
   "execution_count": 47,
   "metadata": {
    "collapsed": true,
    "scrolled": false
   },
   "outputs": [],
   "source": [
    "import csv\n",
    "myFile = open('solution.csv', 'w')  \n",
    "with myFile:  \n",
    "    writer = csv.writer(myFile)\n",
    "    writer.writerow(['Id', 'Votes'])\n",
    "    writer.writerows(myData)\n",
    "    "
   ]
  },
  {
   "cell_type": "code",
   "execution_count": null,
   "metadata": {
    "collapsed": true
   },
   "outputs": [],
   "source": []
  }
 ],
 "metadata": {
  "anaconda-cloud": {},
  "kernelspec": {
   "display_name": "Python [conda env:py2]",
   "language": "python",
   "name": "conda-env-py2-py"
  },
  "language_info": {
   "codemirror_mode": {
    "name": "ipython",
    "version": 2
   },
   "file_extension": ".py",
   "mimetype": "text/x-python",
   "name": "python",
   "nbconvert_exporter": "python",
   "pygments_lexer": "ipython2",
   "version": "2.7.13"
  }
 },
 "nbformat": 4,
 "nbformat_minor": 2
}

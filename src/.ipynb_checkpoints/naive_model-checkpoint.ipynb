{
 "cells": [
  {
   "cell_type": "code",
   "execution_count": 3,
   "metadata": {
    "collapsed": true
   },
   "outputs": [],
   "source": [
    "%run 'nlp_features.ipynb'"
   ]
  },
  {
   "cell_type": "markdown",
   "metadata": {},
   "source": [
    "## predict all 0"
   ]
  },
  {
   "cell_type": "code",
   "execution_count": null,
   "metadata": {
    "collapsed": true
   },
   "outputs": [],
   "source": [
    "def get_model1(test_data):\n",
    "    reviews = [x['review_id'] for x in test_data ]\n",
    "    predict = [0 for _ in xrange(len(reviews))]\n",
    "    return [ (x, y) for x, y in zip(reviews, predict)]"
   ]
  },
  {
   "cell_type": "markdown",
   "metadata": {},
   "source": [
    "## predict user mean"
   ]
  },
  {
   "cell_type": "code",
   "execution_count": null,
   "metadata": {
    "collapsed": true
   },
   "outputs": [],
   "source": [
    "def get_model2(train_data, test_data):\n",
    "    return  [x['review_id'], pred(x) for x in test_data ]"
   ]
  },
  {
   "cell_type": "markdown",
   "metadata": {},
   "source": [
    "user_id 2WkM3pYfx7bt46tv7u4hHA <br>\n",
    "review_id 1Lq3ghX6yzJ7MsWXDkgIGQ  <br>\n",
    "text Nice place, big patio.  Now offering LIVE sketch comedy!  Wednesday, November 17th, see local troupe Th[sic] Sense in their 2nd annual Holiday Show!:\n",
    "\n",
    "A lighter, snappier take on the Holiday times. Not for the easily offended. Sketches include: \"The Scariest Hollowe'en Costume\", \"The First Thanksgiving\", and \"Who Shot Santa Claus?\", as well as the infectious song \"Mama Christmas\"  <br>\n",
    "business_id AuMz7XGkjLcIUurp_AD51w  <br>\n",
    "stars 5 <br> \n",
    "date 2010-11-15 <br>\n",
    "type review <br>"
   ]
  },
  {
   "cell_type": "code",
   "execution_count": 4,
   "metadata": {
    "collapsed": true
   },
   "outputs": [],
   "source": [
    "def get_feature(x):\n",
    "    user_mean = get_writer_rating_mean(x['user_id'], train_data_user)\n",
    "    word_length = get_word_count(x['text'])\n",
    "    "
   ]
  },
  {
   "cell_type": "code",
   "execution_count": null,
   "metadata": {
    "collapsed": true
   },
   "outputs": [],
   "source": []
  }
 ],
 "metadata": {
  "anaconda-cloud": {},
  "kernelspec": {
   "display_name": "Python [conda env:py2]",
   "language": "python",
   "name": "conda-env-py2-py"
  },
  "language_info": {
   "codemirror_mode": {
    "name": "ipython",
    "version": 2
   },
   "file_extension": ".py",
   "mimetype": "text/x-python",
   "name": "python",
   "nbconvert_exporter": "python",
   "pygments_lexer": "ipython2",
   "version": "2.7.13"
  }
 },
 "nbformat": 4,
 "nbformat_minor": 2
}

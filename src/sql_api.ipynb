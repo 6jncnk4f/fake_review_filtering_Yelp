{
 "cells": [
  {
   "cell_type": "code",
   "execution_count": 2,
   "metadata": {},
   "outputs": [],
   "source": [
    "import MySQLdb as mdb \n",
    " \n",
    "import datetime, time\n",
    " \n",
    "def run_sql_file(filename, connection):\n",
    "    '''\n",
    "    The function takes a filename and a connection as input\n",
    "    and will run the SQL query on the given connection  \n",
    "    '''\n",
    "    start = time.time()\n",
    "    \n",
    "    file = open(filename, 'r')\n",
    "    sql = s = \" \".join(file.readlines())\n",
    "    print \"Start executing: \" + filename + \" at \" + str(datetime.datetime.now().strftime(\"%Y-%m-%d %H:%M\")) + \"\\n\" + sql \n",
    "    cursor = connection.cursor()\n",
    "    cursor.execute(sql)    \n",
    "    connection.commit()\n",
    "    \n",
    "    end = time.time()\n",
    "    print \"Time elapsed to run the query:\"\n",
    "    print str((end - start)*1000) + ' ms'\n"
   ]
  },
  {
   "cell_type": "code",
   "execution_count": 3,
   "metadata": {
    "collapsed": true
   },
   "outputs": [],
   "source": [
    "sql_file = '../data/yelp_hot_res.sql'"
   ]
  },
  {
   "cell_type": "code",
   "execution_count": 5,
   "metadata": {},
   "outputs": [],
   "source": [
    "# connection = mdb.connect('127.0.0.1', 'root', 'password', 'database_name')\n",
    "# run_sql_file(\"my_query_file.sql\", connection)    \n",
    "# connection.close()"
   ]
  },
  {
   "cell_type": "code",
   "execution_count": 7,
   "metadata": {},
   "outputs": [
    {
     "ename": "NameError",
     "evalue": "name 'OperationalError' is not defined",
     "output_type": "error",
     "traceback": [
      "\u001b[0;31m---------------------------------------------------------------------------\u001b[0m",
      "\u001b[0;31mNameError\u001b[0m                                 Traceback (most recent call last)",
      "\u001b[0;32m<ipython-input-7-4bf198b0efc3>\u001b[0m in \u001b[0;36m<module>\u001b[0;34m()\u001b[0m\n\u001b[1;32m     14\u001b[0m     \u001b[0;32mtry\u001b[0m\u001b[0;34m:\u001b[0m\u001b[0;34m\u001b[0m\u001b[0m\n\u001b[1;32m     15\u001b[0m         \u001b[0mc\u001b[0m\u001b[0;34m.\u001b[0m\u001b[0mexecute\u001b[0m\u001b[0;34m(\u001b[0m\u001b[0mcommand\u001b[0m\u001b[0;34m)\u001b[0m\u001b[0;34m\u001b[0m\u001b[0m\n\u001b[0;32m---> 16\u001b[0;31m     \u001b[0;32mexcept\u001b[0m \u001b[0mOperationalError\u001b[0m\u001b[0;34m,\u001b[0m \u001b[0mmsg\u001b[0m\u001b[0;34m:\u001b[0m\u001b[0;34m\u001b[0m\u001b[0m\n\u001b[0m\u001b[1;32m     17\u001b[0m         \u001b[0;32mprint\u001b[0m \u001b[0;34m\"Command skipped: \"\u001b[0m\u001b[0;34m,\u001b[0m \u001b[0mmsg\u001b[0m\u001b[0;34m\u001b[0m\u001b[0m\n",
      "\u001b[0;31mNameError\u001b[0m: name 'OperationalError' is not defined"
     ]
    }
   ],
   "source": [
    "fd = open(sql_file, 'r')\n",
    "sqlFile = fd.read()\n",
    "fd.close()\n",
    "\n",
    "# all SQL commands (split on ';')\n",
    "sqlCommands = sqlFile.split(';')\n",
    "\n",
    "# Execute every command from the input file\n",
    "sqlCommands = ['select * from user']\n",
    "for command in sqlCommands:\n",
    "    # This will skip and report errors\n",
    "    # For example, if the tables do not yet exist, this will skip over\n",
    "    # the DROP TABLE commands\n",
    "    try:\n",
    "        c.execute(command)\n",
    "    except OperationalError, msg:\n",
    "        print \"Command skipped: \", msg"
   ]
  },
  {
   "cell_type": "code",
   "execution_count": null,
   "metadata": {
    "collapsed": true
   },
   "outputs": [],
   "source": []
  }
 ],
 "metadata": {
  "anaconda-cloud": {},
  "kernelspec": {
   "display_name": "Python [conda env:py2]",
   "language": "python",
   "name": "conda-env-py2-py"
  },
  "language_info": {
   "codemirror_mode": {
    "name": "ipython",
    "version": 2
   },
   "file_extension": ".py",
   "mimetype": "text/x-python",
   "name": "python",
   "nbconvert_exporter": "python",
   "pygments_lexer": "ipython2",
   "version": "2.7.13"
  }
 },
 "nbformat": 4,
 "nbformat_minor": 2
}
